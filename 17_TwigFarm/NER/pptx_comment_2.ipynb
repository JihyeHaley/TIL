{
 "cells": [
  {
   "cell_type": "code",
   "execution_count": 15,
   "metadata": {},
   "outputs": [
    {
     "ename": "ModuleNotFoundError",
     "evalue": "No module named 'stanza'",
     "output_type": "error",
     "traceback": [
      "\u001b[0;31m---------------------------------------------------------------------------\u001b[0m",
      "\u001b[0;31mModuleNotFoundError\u001b[0m                       Traceback (most recent call last)",
      "\u001b[0;32m<ipython-input-15-c059195782e5>\u001b[0m in \u001b[0;36m<module>\u001b[0;34m()\u001b[0m\n\u001b[1;32m      6\u001b[0m \u001b[0;31m# pptx인 파일 가져오기\u001b[0m\u001b[0;34m\u001b[0m\u001b[0;34m\u001b[0m\u001b[0m\n\u001b[1;32m      7\u001b[0m \u001b[0;34m\u001b[0m\u001b[0m\n\u001b[0;32m----> 8\u001b[0;31m \u001b[0;32mfrom\u001b[0m \u001b[0mcommon_functions\u001b[0m \u001b[0;32mimport\u001b[0m \u001b[0;34m*\u001b[0m\u001b[0;34m\u001b[0m\u001b[0m\n\u001b[0m\u001b[1;32m      9\u001b[0m \u001b[0;32mfrom\u001b[0m \u001b[0mregex_functions\u001b[0m \u001b[0;32mimport\u001b[0m \u001b[0;34m*\u001b[0m\u001b[0;34m\u001b[0m\u001b[0m\n\u001b[1;32m     10\u001b[0m \u001b[0;34m\u001b[0m\u001b[0m\n",
      "\u001b[0;32m~/Desktop/GIT/TIL/17_TwigFarm/common_functions.py\u001b[0m in \u001b[0;36m<module>\u001b[0;34m()\u001b[0m\n\u001b[1;32m      6\u001b[0m \u001b[0;32mfrom\u001b[0m \u001b[0mpathlib\u001b[0m \u001b[0;32mimport\u001b[0m \u001b[0mPath\u001b[0m\u001b[0;34m\u001b[0m\u001b[0m\n\u001b[1;32m      7\u001b[0m \u001b[0;32mfrom\u001b[0m \u001b[0municodedata\u001b[0m \u001b[0;32mimport\u001b[0m \u001b[0mnormalize\u001b[0m\u001b[0;34m\u001b[0m\u001b[0m\n\u001b[0;32m----> 8\u001b[0;31m \u001b[0;32mimport\u001b[0m \u001b[0mstanza\u001b[0m\u001b[0;34m\u001b[0m\u001b[0m\n\u001b[0m\u001b[1;32m      9\u001b[0m \u001b[0;32mimport\u001b[0m \u001b[0mos\u001b[0m\u001b[0;34m\u001b[0m\u001b[0m\n\u001b[1;32m     10\u001b[0m \u001b[0;32mimport\u001b[0m \u001b[0mmammoth\u001b[0m\u001b[0;34m\u001b[0m\u001b[0m\n",
      "\u001b[0;31mModuleNotFoundError\u001b[0m: No module named 'stanza'"
     ]
    }
   ],
   "source": [
    "import xlsxwriter\n",
    "import timeit\n",
    "from itertools import zip_longest\n",
    "from nltk.tokenize import sent_tokenize\n",
    "\n",
    "# pptx인 파일 가져오기\n",
    "\n",
    "from common_functions import *\n",
    "from regex_functions import *\n",
    "\n",
    "import glob\n",
    "import subprocess"
   ]
  },
  {
   "cell_type": "code",
   "execution_count": 16,
   "metadata": {},
   "outputs": [
    {
     "name": "stdout",
     "output_type": "stream",
     "text": [
      "\n",
      "The following command must be run outside of the IPython shell:\n",
      "\n",
      "    $ pip install stanza\n",
      "\n",
      "The Python package manager (pip) can only be used from outside of IPython.\n",
      "Please reissue the `pip` command in a separate terminal or command prompt.\n",
      "\n",
      "See the Python documentation for more information on how to install packages:\n",
      "\n",
      "    https://docs.python.org/3/installing/\n"
     ]
    }
   ],
   "source": [
    "pip install stanza"
   ]
  },
  {
   "cell_type": "code",
   "execution_count": 13,
   "metadata": {},
   "outputs": [
    {
     "name": "stdout",
     "output_type": "stream",
     "text": [
      "Change encoding files.......\\ \n",
      "\n"
     ]
    },
    {
     "ename": "NameError",
     "evalue": "name 'glob' is not defined",
     "output_type": "error",
     "traceback": [
      "\u001b[0;31m---------------------------------------------------------------------------\u001b[0m",
      "\u001b[0;31mNameError\u001b[0m                                 Traceback (most recent call last)",
      "\u001b[0;32m<ipython-input-13-9c6e1c1bca9b>\u001b[0m in \u001b[0;36m<module>\u001b[0;34m()\u001b[0m\n\u001b[1;32m     13\u001b[0m \u001b[0mfile_path\u001b[0m \u001b[0;34m=\u001b[0m \u001b[0mroot_path\u001b[0m \u001b[0;34m+\u001b[0m \u001b[0msub_dir\u001b[0m\u001b[0;34m\u001b[0m\u001b[0m\n\u001b[1;32m     14\u001b[0m \u001b[0;34m\u001b[0m\u001b[0m\n\u001b[0;32m---> 15\u001b[0;31m \u001b[0mpptx_files_dict\u001b[0m \u001b[0;34m=\u001b[0m \u001b[0mget_filename_list\u001b[0m\u001b[0;34m(\u001b[0m\u001b[0mfile_path\u001b[0m\u001b[0;34m,\u001b[0m \u001b[0;34m'.pptx'\u001b[0m\u001b[0;34m)\u001b[0m\u001b[0;34m\u001b[0m\u001b[0m\n\u001b[0m\u001b[1;32m     16\u001b[0m \u001b[0mprint\u001b[0m\u001b[0;34m(\u001b[0m\u001b[0mpptx_files_dict\u001b[0m\u001b[0;34m)\u001b[0m\u001b[0;34m\u001b[0m\u001b[0m\n",
      "\u001b[0;32m<ipython-input-13-9c6e1c1bca9b>\u001b[0m in \u001b[0;36mget_filename_list\u001b[0;34m(path, ext)\u001b[0m\n\u001b[1;32m      3\u001b[0m     \u001b[0mprint\u001b[0m\u001b[0;34m(\u001b[0m\u001b[0;34m'Change encoding files.......\\ \\n'\u001b[0m\u001b[0;34m)\u001b[0m\u001b[0;34m\u001b[0m\u001b[0m\n\u001b[1;32m      4\u001b[0m     \u001b[0mresult\u001b[0m \u001b[0;34m=\u001b[0m \u001b[0;34m[\u001b[0m\u001b[0;34m]\u001b[0m\u001b[0;34m\u001b[0m\u001b[0m\n\u001b[0;32m----> 5\u001b[0;31m     \u001b[0;32mfor\u001b[0m \u001b[0mf\u001b[0m \u001b[0;32min\u001b[0m \u001b[0mglob\u001b[0m\u001b[0;34m.\u001b[0m\u001b[0mglob\u001b[0m\u001b[0;34m(\u001b[0m\u001b[0mfile_path\u001b[0m \u001b[0;34m+\u001b[0m \u001b[0;34mf\"/*{ext}\"\u001b[0m\u001b[0;34m)\u001b[0m\u001b[0;34m:\u001b[0m\u001b[0;34m\u001b[0m\u001b[0m\n\u001b[0m\u001b[1;32m      6\u001b[0m         \u001b[0;31m# run convmv shell script -> file normalization NFC -> NFD (한글자소분리해결)\u001b[0m\u001b[0;34m\u001b[0m\u001b[0;34m\u001b[0m\u001b[0m\n\u001b[1;32m      7\u001b[0m         \u001b[0msubprocess\u001b[0m\u001b[0;34m.\u001b[0m\u001b[0mrun\u001b[0m\u001b[0;34m(\u001b[0m\u001b[0;34m[\u001b[0m\u001b[0;34m'/usr/local/bin/convmv'\u001b[0m\u001b[0;34m,\u001b[0m \u001b[0;34m'-f'\u001b[0m\u001b[0;34m,\u001b[0m \u001b[0;34m'utf-8'\u001b[0m\u001b[0;34m,\u001b[0m \u001b[0;34m'-t'\u001b[0m\u001b[0;34m,\u001b[0m \u001b[0;34m'utf-8'\u001b[0m\u001b[0;34m,\u001b[0m \u001b[0;34m'--nfc'\u001b[0m\u001b[0;34m,\u001b[0m \u001b[0;34m'--notest'\u001b[0m\u001b[0;34m,\u001b[0m \u001b[0mf\u001b[0m\u001b[0;34m]\u001b[0m\u001b[0;34m)\u001b[0m\u001b[0;34m\u001b[0m\u001b[0m\n",
      "\u001b[0;31mNameError\u001b[0m: name 'glob' is not defined"
     ]
    }
   ],
   "source": [
    "# file 다 가져오기\n",
    "def get_filename_list(path, ext):\n",
    "    print('Change encoding files.......\\ \\n')\n",
    "    result = []\n",
    "    for f in glob.glob(file_path + f\"/*{ext}\"):\n",
    "        # run convmv shell script -> file normalization NFC -> NFD (한글자소분리해결)\n",
    "        subprocess.run(['/usr/local/bin/convmv', '-f', 'utf-8', '-t', 'utf-8', '--nfc', '--notest', f])\n",
    "        result.append(f)\n",
    "    return result\n",
    "\n",
    "root_path = '/Users/jihyeoh/Lexcode/팀 채널 - 인공지능 학습 DB 구축 채널/1. 원본DB(렉스코드)'\n",
    "sub_dir = '/4.2019한국표준협회'\n",
    "file_path = root_path + sub_dir\n",
    "\n",
    "pptx_files_dict = get_filename_list(file_path, '.pptx')\n",
    "print(pptx_files_dict)"
   ]
  },
  {
   "cell_type": "code",
   "execution_count": 10,
   "metadata": {},
   "outputs": [],
   "source": [
    "def pptx_parser_pre(pptx_file):\n",
    "    # pptx 분석 하기위해 list 만들어주기\n",
    "    pptx_results_pre = []\n",
    "    prs = Presentation(pptx_file)\n",
    "    \n",
    "    # ---- pptx 추출 시작 ----\n",
    "    for slide in prs.slides:\n",
    "        \n",
    "        # 1개의 pptx 분석시작\n",
    "        for shape in slide.shapes:\n",
    "            if not shape.has_text_frame:\n",
    "                continue\n",
    "                \n",
    "            \n",
    "            # 전처리 및 라인별 넣어주기\n",
    "            for paragraph in shape.text_frame.paragraphs:\n",
    "                paragraph.text = pptx_extra_regex(paragraph.text)\n",
    "\n",
    "                if paragraph.text.strip() in ['.', '/', ',']:\n",
    "                    continue\n",
    "                pptx_results_pre.append(paragraph.text)\n",
    "\n",
    "            # sent_tokenize \n",
    "            pptx_results = []\n",
    "            for pptx_result_pre in pptx_results_pre:\n",
    "                text_list = sent_tokenize(pptx_result_pre)\n",
    "                for text in text_list:\n",
    "                    if len(text) == 1 and text == 'E':\n",
    "                        text = text + '→'\n",
    "                    if text[:2] in 'ver':\n",
    "                        text = '←' + text\n",
    "                    pptx_results.append(text)\n",
    "    pptx_results = list(filter(None, pptx_results))\n",
    "    return pptx_results"
   ]
  },
  {
   "cell_type": "code",
   "execution_count": 9,
   "metadata": {},
   "outputs": [],
   "source": [
    "def pptx_to_excel(pptx_files_dict):\n",
    "\n",
    "    start = timeit.default_timer()\n",
    "    \n",
    "    completed_log = open(f'./4_2019한국표준협회/4_completed_log' + '.txt', \"w+\")\n",
    "    error_log = open(f'./4_2019한국표준협회/4_error_log' + '.txt', \"w+\")\n",
    "    i = 0\n",
    "    ko_files = []\n",
    "    en_files = []\n",
    "\n",
    "    for pptx_file in pptx_files_dict:\n",
    "        if pptx_file[-6] == '한':\n",
    "            ko_files.append(pptx_file)\n",
    "        elif pptx_file[-6] == '영':\n",
    "            en_files.append(pptx_file)\n",
    "    print(len(ko_files), len(en_files))\n",
    "    try:\n",
    "        # 짝이 맞는 순서대로 넣어주기\n",
    "        ko_file, en_file = '', ''\n",
    "        # 한, 영 짝수 맞추기\n",
    "        for ko_file in ko_files:\n",
    "            for en_file in en_files:\n",
    "                if ko_file[:-6] == en_file[:-6]:\n",
    "                    # ---- pptx 추출 시작 ----\n",
    "                    pptx_ko = pptx_parser_pre(ko_file)\n",
    "                    pptx_en = pptx_parser_pre(en_file)\n",
    "                    \n",
    "\n",
    "                    i += 1       \n",
    "                    # ---- 파일명에 따라서 순서대로 한, 영 key에 filename을 value로 넣어주기 ----\n",
    "                    completed_log.write(str(i) + ko_file + ' \\n')\n",
    "                    completed_log.write(str(i) + en_file + ' \\n')\n",
    "                    print(i, ko_file[115:-5])\n",
    "                    print(i, en_file[115:-5])\n",
    "\n",
    "\n",
    "                    # excel 밖으로 빼내기\n",
    "                    # ------- 절대경로보다 상대경로 사용해주세요\n",
    "                    workbook = xlsxwriter.Workbook(f'./4_2019한국표준협회/Test_3/{ko_file[115:-6]}.xlsx')\n",
    "                    print(i, ko_file[115:-6])\n",
    "                    worksheet = workbook.add_worksheet()\n",
    "                    worksheet.write('A1', ' ')\n",
    "                    worksheet.write('B1', 'KOR')\n",
    "                    worksheet.write('C1', 'ENG')\n",
    "\n",
    "                    row_idx = 2\n",
    "\n",
    "                    # pptx을 excel로 \n",
    "                    worksheet.write('A' + str(row_idx), '>' * 10 + ko_file[115:-6])\n",
    "                    row_idx += 1\n",
    "                    for ko, en in zip_longest(pptx_ko, pptx_en, fillvalue=' '):\n",
    "                        worksheet.write('B' + str(row_idx), ko)\n",
    "                        worksheet.write('C' + str(row_idx), en)\n",
    "                        row_idx += 1\n",
    "\n",
    "                    workbook.close()\n",
    "\n",
    "    except Exception as e:\n",
    "        error_log.write(str(i) + ko_file + ' \\n')\n",
    "\n",
    "    stop = timeit.default_timer()\n",
    "    print('Running Time: ', stop - start)\n",
    "\n",
    "    print(f'ko :{len(ko_files)}, en :{len(en_files)}')"
   ]
  },
  {
   "cell_type": "code",
   "execution_count": 10,
   "metadata": {},
   "outputs": [
    {
     "ename": "NameError",
     "evalue": "name 'pptx_files_dict' is not defined",
     "output_type": "error",
     "traceback": [
      "\u001b[0;31m---------------------------------------------------------------------------\u001b[0m",
      "\u001b[0;31mNameError\u001b[0m                                 Traceback (most recent call last)",
      "\u001b[0;32m<ipython-input-10-cadea2c4a6a0>\u001b[0m in \u001b[0;36m<module>\u001b[0;34m()\u001b[0m\n\u001b[0;32m----> 1\u001b[0;31m \u001b[0mpptx_to_excel\u001b[0m\u001b[0;34m(\u001b[0m\u001b[0mpptx_files_dict\u001b[0m\u001b[0;34m)\u001b[0m\u001b[0;34m\u001b[0m\u001b[0m\n\u001b[0m",
      "\u001b[0;31mNameError\u001b[0m: name 'pptx_files_dict' is not defined"
     ]
    }
   ],
   "source": [
    "pptx_to_excel(pptx_files_dict)"
   ]
  },
  {
   "cell_type": "code",
   "execution_count": null,
   "metadata": {},
   "outputs": [],
   "source": []
  }
 ],
 "metadata": {
  "kernelspec": {
   "display_name": "Python 3",
   "language": "python",
   "name": "python3"
  },
  "language_info": {
   "codemirror_mode": {
    "name": "ipython",
    "version": 3
   },
   "file_extension": ".py",
   "mimetype": "text/x-python",
   "name": "python",
   "nbconvert_exporter": "python",
   "pygments_lexer": "ipython3",
   "version": "3.6.5"
  }
 },
 "nbformat": 4,
 "nbformat_minor": 4
}
